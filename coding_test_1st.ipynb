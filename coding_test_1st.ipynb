{
 "cells": [
  {
   "cell_type": "code",
   "execution_count": null,
   "metadata": {},
   "outputs": [],
   "source": [
    "# 1번문제\n",
    "def solution(arr, query):\n",
    "    for i in query:\n",
    "        if i%2 ==0:\n",
    "            arr = arr[:i]\n",
    "        if i%2==1:\n",
    "            arr = arr[i+1:]\n",
    "    return arr"
   ]
  },
  {
   "cell_type": "code",
   "execution_count": null,
   "metadata": {},
   "outputs": [],
   "source": [
    "#2번문제\n",
    "num = []\n",
    "def solution(n):\n",
    "    while n>0:\n",
    "        m = n%10\n",
    "        num.append(m)\n",
    "        n = n/10\n",
    "    return num"
   ]
  },
  {
   "cell_type": "code",
   "execution_count": null,
   "metadata": {},
   "outputs": [],
   "source": [
    "#3번문제\n",
    "num = []\n",
    "cnt = 0\n",
    "\n",
    "def solution(arr, divisor):\n",
    "    for i in arr:\n",
    "        if i % divisor == 0:\n",
    "            num.append(i)\n",
    "            cnt = cnt +1\n",
    "    if cnt == 0:\n",
    "        num[0]=-1\n",
    "    return sorted(num)"
   ]
  }
 ],
 "metadata": {
  "language_info": {
   "name": "python"
  }
 },
 "nbformat": 4,
 "nbformat_minor": 2
}
